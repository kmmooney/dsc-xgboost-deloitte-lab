{
 "cells": [
  {
   "cell_type": "markdown",
   "metadata": {},
   "source": [
    "## Introduction  \n",
    "In this lab, we would like to make an XGBoost model to study the e-commerce behavior from a multi-category store. First, we need to download the data to your local machine, then we will load the data into a Pandas DataFrame."
   ]
  },
  {
   "cell_type": "markdown",
   "metadata": {},
   "source": [
    "## Objectives\n",
    "- Apply XGBoost to an example"
   ]
  },
  {
   "cell_type": "markdown",
   "metadata": {},
   "source": [
    "## Instruction\n",
    "* Accept the Kaggle policy and download the data from [Kaggle](https://www.kaggle.com/code/tshephisho/ecommerce-behaviour-using-xgboost/data)\n",
    "* For the first model you will only use the 2019-Nov csv data (which is still around ~2gb zipped)"
   ]
  },
  {
   "cell_type": "code",
   "execution_count": 1,
   "metadata": {},
   "outputs": [],
   "source": [
    "# import necessary libraries\n",
    "import numpy as np\n",
    "import pandas as pd\n",
    "import matplotlib.pyplot as plt\n",
    "import matplotlib.dates as dates\n",
    "from datetime import datetime"
   ]
  },
  {
   "cell_type": "code",
   "execution_count": 2,
   "metadata": {
    "_cell_guid": "79c7e3d0-c299-4dcb-8224-4455121ee9b0",
    "_uuid": "d629ff2d2480ee46fbb7e2d37f6b5fab8052498a"
   },
   "outputs": [],
   "source": [
    "# fill this in with your path (absolute path works as well)\n",
    "path_to_file = \"./2019-Nov.csv\"\n",
    "df = pd.read_csv(path_to_file)"
   ]
  },
  {
   "cell_type": "markdown",
   "metadata": {},
   "source": [
    "Start with some exploratory analysis. First, take a look at the first five rows of the DataFrame. Then get the information about the DataFrame, what is the shape of the DataFrame, and what are the coumn names?"
   ]
  },
  {
   "cell_type": "code",
   "execution_count": 3,
   "metadata": {},
   "outputs": [
    {
     "data": {
      "text/html": [
       "<div>\n",
       "<style scoped>\n",
       "    .dataframe tbody tr th:only-of-type {\n",
       "        vertical-align: middle;\n",
       "    }\n",
       "\n",
       "    .dataframe tbody tr th {\n",
       "        vertical-align: top;\n",
       "    }\n",
       "\n",
       "    .dataframe thead th {\n",
       "        text-align: right;\n",
       "    }\n",
       "</style>\n",
       "<table border=\"1\" class=\"dataframe\">\n",
       "  <thead>\n",
       "    <tr style=\"text-align: right;\">\n",
       "      <th></th>\n",
       "      <th>event_time</th>\n",
       "      <th>event_type</th>\n",
       "      <th>product_id</th>\n",
       "      <th>category_id</th>\n",
       "      <th>category_code</th>\n",
       "      <th>brand</th>\n",
       "      <th>price</th>\n",
       "      <th>user_id</th>\n",
       "      <th>user_session</th>\n",
       "    </tr>\n",
       "  </thead>\n",
       "  <tbody>\n",
       "    <tr>\n",
       "      <th>0</th>\n",
       "      <td>2019-11-01 00:00:00 UTC</td>\n",
       "      <td>view</td>\n",
       "      <td>1003461</td>\n",
       "      <td>2053013555631882655</td>\n",
       "      <td>electronics.smartphone</td>\n",
       "      <td>xiaomi</td>\n",
       "      <td>489.07</td>\n",
       "      <td>520088904</td>\n",
       "      <td>4d3b30da-a5e4-49df-b1a8-ba5943f1dd33</td>\n",
       "    </tr>\n",
       "    <tr>\n",
       "      <th>1</th>\n",
       "      <td>2019-11-01 00:00:00 UTC</td>\n",
       "      <td>view</td>\n",
       "      <td>5000088</td>\n",
       "      <td>2053013566100866035</td>\n",
       "      <td>appliances.sewing_machine</td>\n",
       "      <td>janome</td>\n",
       "      <td>293.65</td>\n",
       "      <td>530496790</td>\n",
       "      <td>8e5f4f83-366c-4f70-860e-ca7417414283</td>\n",
       "    </tr>\n",
       "    <tr>\n",
       "      <th>2</th>\n",
       "      <td>2019-11-01 00:00:01 UTC</td>\n",
       "      <td>view</td>\n",
       "      <td>17302664</td>\n",
       "      <td>2053013553853497655</td>\n",
       "      <td>NaN</td>\n",
       "      <td>creed</td>\n",
       "      <td>28.31</td>\n",
       "      <td>561587266</td>\n",
       "      <td>755422e7-9040-477b-9bd2-6a6e8fd97387</td>\n",
       "    </tr>\n",
       "    <tr>\n",
       "      <th>3</th>\n",
       "      <td>2019-11-01 00:00:01 UTC</td>\n",
       "      <td>view</td>\n",
       "      <td>3601530</td>\n",
       "      <td>2053013563810775923</td>\n",
       "      <td>appliances.kitchen.washer</td>\n",
       "      <td>lg</td>\n",
       "      <td>712.87</td>\n",
       "      <td>518085591</td>\n",
       "      <td>3bfb58cd-7892-48cc-8020-2f17e6de6e7f</td>\n",
       "    </tr>\n",
       "    <tr>\n",
       "      <th>4</th>\n",
       "      <td>2019-11-01 00:00:01 UTC</td>\n",
       "      <td>view</td>\n",
       "      <td>1004775</td>\n",
       "      <td>2053013555631882655</td>\n",
       "      <td>electronics.smartphone</td>\n",
       "      <td>xiaomi</td>\n",
       "      <td>183.27</td>\n",
       "      <td>558856683</td>\n",
       "      <td>313628f1-68b8-460d-84f6-cec7a8796ef2</td>\n",
       "    </tr>\n",
       "  </tbody>\n",
       "</table>\n",
       "</div>"
      ],
      "text/plain": [
       "                event_time event_type  product_id          category_id  \\\n",
       "0  2019-11-01 00:00:00 UTC       view     1003461  2053013555631882655   \n",
       "1  2019-11-01 00:00:00 UTC       view     5000088  2053013566100866035   \n",
       "2  2019-11-01 00:00:01 UTC       view    17302664  2053013553853497655   \n",
       "3  2019-11-01 00:00:01 UTC       view     3601530  2053013563810775923   \n",
       "4  2019-11-01 00:00:01 UTC       view     1004775  2053013555631882655   \n",
       "\n",
       "               category_code   brand   price    user_id  \\\n",
       "0     electronics.smartphone  xiaomi  489.07  520088904   \n",
       "1  appliances.sewing_machine  janome  293.65  530496790   \n",
       "2                        NaN   creed   28.31  561587266   \n",
       "3  appliances.kitchen.washer      lg  712.87  518085591   \n",
       "4     electronics.smartphone  xiaomi  183.27  558856683   \n",
       "\n",
       "                           user_session  \n",
       "0  4d3b30da-a5e4-49df-b1a8-ba5943f1dd33  \n",
       "1  8e5f4f83-366c-4f70-860e-ca7417414283  \n",
       "2  755422e7-9040-477b-9bd2-6a6e8fd97387  \n",
       "3  3bfb58cd-7892-48cc-8020-2f17e6de6e7f  \n",
       "4  313628f1-68b8-460d-84f6-cec7a8796ef2  "
      ]
     },
     "execution_count": 3,
     "metadata": {},
     "output_type": "execute_result"
    }
   ],
   "source": [
    "# your code\n",
    "df.head()"
   ]
  },
  {
   "cell_type": "code",
   "execution_count": 4,
   "metadata": {},
   "outputs": [
    {
     "name": "stdout",
     "output_type": "stream",
     "text": [
      "<class 'pandas.core.frame.DataFrame'>\n",
      "RangeIndex: 67501979 entries, 0 to 67501978\n",
      "Data columns (total 9 columns):\n",
      " #   Column         Dtype  \n",
      "---  ------         -----  \n",
      " 0   event_time     object \n",
      " 1   event_type     object \n",
      " 2   product_id     int64  \n",
      " 3   category_id    int64  \n",
      " 4   category_code  object \n",
      " 5   brand          object \n",
      " 6   price          float64\n",
      " 7   user_id        int64  \n",
      " 8   user_session   object \n",
      "dtypes: float64(1), int64(3), object(5)\n",
      "memory usage: 4.5+ GB\n"
     ]
    }
   ],
   "source": [
    "# your code\n",
    "df.info()"
   ]
  },
  {
   "cell_type": "code",
   "execution_count": 5,
   "metadata": {},
   "outputs": [
    {
     "data": {
      "text/plain": [
       "(67501979, 9)"
      ]
     },
     "execution_count": 5,
     "metadata": {},
     "output_type": "execute_result"
    }
   ],
   "source": [
    "\n",
    "df.shape# your code"
   ]
  },
  {
   "cell_type": "code",
   "execution_count": 6,
   "metadata": {},
   "outputs": [
    {
     "data": {
      "text/plain": [
       "Index(['event_time', 'event_type', 'product_id', 'category_id',\n",
       "       'category_code', 'brand', 'price', 'user_id', 'user_session'],\n",
       "      dtype='object')"
      ]
     },
     "execution_count": 6,
     "metadata": {},
     "output_type": "execute_result"
    }
   ],
   "source": [
    "# your code\n",
    "df.columns"
   ]
  },
  {
   "cell_type": "markdown",
   "metadata": {},
   "source": [
    "# Know your Customers\n",
    "How many unique customers visit the site? Assign the number of visitors to the visitor variable and print it out"
   ]
  },
  {
   "cell_type": "code",
   "execution_count": 7,
   "metadata": {},
   "outputs": [
    {
     "data": {
      "text/plain": [
       "3696117"
      ]
     },
     "execution_count": 7,
     "metadata": {},
     "output_type": "execute_result"
    }
   ],
   "source": [
    "# your code\n",
    "visitors = df.user_id.nunique()\n",
    "visitors"
   ]
  },
  {
   "cell_type": "markdown",
   "metadata": {},
   "source": [
    "# Visitors Daily Trend\n",
    "Does traffic fluctuate by date? Try using the `event_time` and `user_id` to see traffic. First you need to select by `event_time` and `user_id`, then you will `drop_duplicates` and `groupby` `event_time` and `user_id`."
   ]
  },
  {
   "cell_type": "code",
   "execution_count": 8,
   "metadata": {},
   "outputs": [],
   "source": [
    "d = df.loc[:, [\"event_time\", \"user_id\"]]\n",
    "d[\"event_time\"] = d[\"event_time\"].apply(lambda s: str(s)[0:10])\n",
    "visitor_by_date = (\n",
    "    d.drop_duplicates()\n",
    "    .groupby([\"event_time\"])[\"user_id\"]\n",
    "    .agg([\"count\"])\n",
    "    .sort_values(by=[\"event_time\"], ascending=True)\n",
    ")\n",
    "x = pd.Series(visitor_by_date.index.values).apply(\n",
    "    lambda s: datetime.strptime(s, \"%Y-%m-%d\").date()\n",
    ")\n",
    "y = visitor_by_date[\"count\"]"
   ]
  },
  {
   "cell_type": "code",
   "execution_count": 9,
   "metadata": {},
   "outputs": [
    {
     "data": {
      "image/png": "[encoded data removed]",
      "text/plain": [
       "<Figure size 1224x360 with 1 Axes>"
      ]
     },
     "metadata": {
      "needs_background": "light"
     },
     "output_type": "display_data"
    }
   ],
   "source": [
    "plt.rcParams[\"figure.figsize\"] = (17, 5)\n",
    "plt.plot(np.array(x), np.array(y))\n",
    "plt.show()"
   ]
  },
  {
   "cell_type": "markdown",
   "metadata": {},
   "source": [
    "### By Category and Product\n",
    "Which category do customers interact with the most? What brand do they view the most? You can choose just the categories with at least 30 records in order to construct the plots."
   ]
  },
  {
   "cell_type": "code",
   "execution_count": 10,
   "metadata": {},
   "outputs": [],
   "source": [
    "max_category_num = 30\n",
    "top_category = (\n",
    "    df.loc[:, \"category_code\"]\n",
    "    .value_counts()[:max_category_num]\n",
    "    .sort_values(ascending=False)\n",
    ")"
   ]
  },
  {
   "cell_type": "code",
   "execution_count": 11,
   "metadata": {},
   "outputs": [
    {
     "data": {
      "image/png": "[encoded data removed]",
      "text/plain": [
       "<Figure size 1224x360 with 1 Axes>"
      ]
     },
     "metadata": {
      "needs_background": "light"
     },
     "output_type": "display_data"
    }
   ],
   "source": [
    "plt.barh(\n",
    "    width=top_category,\n",
    "    y=top_category.index.array,\n",
    "    color=[\"red\", \"cyan\", \"green\", \"orange\", \"blue\", \"grey\"],\n",
    "    alpha=0.7,\n",
    ")\n",
    "\n",
    "plt.show()"
   ]
  },
  {
   "cell_type": "markdown",
   "metadata": {},
   "source": [
    "## Purchases\n",
    "\n",
    "When the event_type is \"purchase\", what item do customers buy?\n",
    "\n",
    "Try using `'event_type' == 'purchase'` and drop empty rows to assess which categories customers buy."
   ]
  },
  {
   "cell_type": "code",
   "execution_count": 12,
   "metadata": {},
   "outputs": [
    {
     "data": {
      "image/png": "[encoded data removed]",
      "text/plain": [
       "<Figure size 1224x360 with 1 Axes>"
      ]
     },
     "metadata": {
      "needs_background": "light"
     },
     "output_type": "display_data"
    }
   ],
   "source": [
    "# your code\n",
    "purchases = df.loc[df['event_type'] == 'purchase']\n",
    "purchases = purchases.dropna()\n",
    "max_category_num = 30\n",
    "top_category_purchases = (\n",
    "    purchases.loc[:, \"category_code\"]\n",
    "    .value_counts()[:max_category_num]\n",
    "    .sort_values(ascending=False)\n",
    ")\n",
    "\n",
    "plt.barh(\n",
    "    width=top_category_purchases,\n",
    "    y=top_category_purchases.index.array,\n",
    "    color=[\"red\", \"cyan\", \"green\", \"orange\", \"blue\", \"grey\"],\n",
    "    alpha=0.7,\n",
    ")\n",
    "\n",
    "plt.show()"
   ]
  },
  {
   "cell_type": "markdown",
   "metadata": {},
   "source": [
    "## What brands do the customers buy?\n",
    "Try grouping by brand and sorting the values by the brand name."
   ]
  },
  {
   "cell_type": "code",
   "execution_count": 13,
   "metadata": {},
   "outputs": [
    {
     "data": {
      "text/html": [
       "<div>\n",
       "<style scoped>\n",
       "    .dataframe tbody tr th:only-of-type {\n",
       "        vertical-align: middle;\n",
       "    }\n",
       "\n",
       "    .dataframe tbody tr th {\n",
       "        vertical-align: top;\n",
       "    }\n",
       "\n",
       "    .dataframe thead th {\n",
       "        text-align: right;\n",
       "    }\n",
       "</style>\n",
       "<table border=\"1\" class=\"dataframe\">\n",
       "  <thead>\n",
       "    <tr style=\"text-align: right;\">\n",
       "      <th></th>\n",
       "      <th>count</th>\n",
       "    </tr>\n",
       "    <tr>\n",
       "      <th>brand</th>\n",
       "      <th></th>\n",
       "    </tr>\n",
       "  </thead>\n",
       "  <tbody>\n",
       "    <tr>\n",
       "      <th>samsung</th>\n",
       "      <td>198670</td>\n",
       "    </tr>\n",
       "    <tr>\n",
       "      <th>apple</th>\n",
       "      <td>165681</td>\n",
       "    </tr>\n",
       "    <tr>\n",
       "      <th>xiaomi</th>\n",
       "      <td>57909</td>\n",
       "    </tr>\n",
       "    <tr>\n",
       "      <th>huawei</th>\n",
       "      <td>23466</td>\n",
       "    </tr>\n",
       "    <tr>\n",
       "      <th>oppo</th>\n",
       "      <td>15080</td>\n",
       "    </tr>\n",
       "    <tr>\n",
       "      <th>lg</th>\n",
       "      <td>11828</td>\n",
       "    </tr>\n",
       "    <tr>\n",
       "      <th>artel</th>\n",
       "      <td>7269</td>\n",
       "    </tr>\n",
       "    <tr>\n",
       "      <th>lenovo</th>\n",
       "      <td>6546</td>\n",
       "    </tr>\n",
       "    <tr>\n",
       "      <th>acer</th>\n",
       "      <td>6402</td>\n",
       "    </tr>\n",
       "    <tr>\n",
       "      <th>bosch</th>\n",
       "      <td>5718</td>\n",
       "    </tr>\n",
       "    <tr>\n",
       "      <th>indesit</th>\n",
       "      <td>5187</td>\n",
       "    </tr>\n",
       "    <tr>\n",
       "      <th>respect</th>\n",
       "      <td>4557</td>\n",
       "    </tr>\n",
       "    <tr>\n",
       "      <th>hp</th>\n",
       "      <td>4002</td>\n",
       "    </tr>\n",
       "    <tr>\n",
       "      <th>midea</th>\n",
       "      <td>3984</td>\n",
       "    </tr>\n",
       "    <tr>\n",
       "      <th>elenberg</th>\n",
       "      <td>3944</td>\n",
       "    </tr>\n",
       "    <tr>\n",
       "      <th>haier</th>\n",
       "      <td>3826</td>\n",
       "    </tr>\n",
       "    <tr>\n",
       "      <th>beko</th>\n",
       "      <td>3813</td>\n",
       "    </tr>\n",
       "    <tr>\n",
       "      <th>casio</th>\n",
       "      <td>3477</td>\n",
       "    </tr>\n",
       "    <tr>\n",
       "      <th>tefal</th>\n",
       "      <td>3343</td>\n",
       "    </tr>\n",
       "    <tr>\n",
       "      <th>vitek</th>\n",
       "      <td>3095</td>\n",
       "    </tr>\n",
       "  </tbody>\n",
       "</table>\n",
       "</div>"
      ],
      "text/plain": [
       "           count\n",
       "brand           \n",
       "samsung   198670\n",
       "apple     165681\n",
       "xiaomi     57909\n",
       "huawei     23466\n",
       "oppo       15080\n",
       "lg         11828\n",
       "artel       7269\n",
       "lenovo      6546\n",
       "acer        6402\n",
       "bosch       5718\n",
       "indesit     5187\n",
       "respect     4557\n",
       "hp          4002\n",
       "midea       3984\n",
       "elenberg    3944\n",
       "haier       3826\n",
       "beko        3813\n",
       "casio       3477\n",
       "tefal       3343\n",
       "vitek       3095"
      ]
     },
     "execution_count": 13,
     "metadata": {},
     "output_type": "execute_result"
    }
   ],
   "source": [
    "# your code\n",
    "top_sellers = (\n",
    "    purchases.groupby(\"brand\")[\"brand\"]\n",
    "    .agg([\"count\"])\n",
    "    .sort_values(\"count\", ascending=False)\n",
    ")\n",
    "top_sellers.head(20)"
   ]
  },
  {
   "cell_type": "code",
   "execution_count": 14,
   "metadata": {},
   "outputs": [],
   "source": [
    "del d  # free memory"
   ]
  },
  {
   "cell_type": "markdown",
   "metadata": {},
   "source": [
    "# Modeling: predict at the time of addition to a shopping cart if the user will purchase a given product or not\n",
    "\n",
    "### Feature engineering\n",
    "\n",
    "The goal of this modeling is to predict if the user will purchase a product or not when they add the product to the cart. This is called `cart abandonment` if the user does not purchase.\n",
    "\n",
    "First, reconstruct and restructure the data to feed into the machine learning model. For this use case, target only the data for which customers have \"put\" the product into the cart. The relevant `event_type`s are thus \"cart\" and \"purchase\".\n",
    "\n",
    "Create these new features in the training data set:\n",
    "- `activity_count`: number of activity in that session\n",
    "- `category_level1`: category\n",
    "- `category_level2`: sub-category --> split on the \".\" in the category name\n",
    "- `weekday`: weekday of the event --> convert `event_time` to a datetime object, then use `pandas.Timestamp.weekday`\n",
    "- `is_purchased`: whether the is purchased after being put in the cart, this will be the categorical output.\n",
    "\n",
    "Make sure to de-dup any record."
   ]
  },
  {
   "cell_type": "markdown",
   "metadata": {},
   "source": [
    "**Prepare a dataframe for counting activity in the session**"
   ]
  },
  {
   "cell_type": "code",
   "execution_count": 15,
   "metadata": {},
   "outputs": [
    {
     "name": "stderr",
     "output_type": "stream",
     "text": [
      "<ipython-input-15-2cf3f77f1932>:4: SettingWithCopyWarning: \n",
      "A value is trying to be set on a copy of a slice from a DataFrame\n",
      "\n",
      "See the caveats in the documentation: https://pandas.pydata.org/pandas-docs/stable/user_guide/indexing.html#returning-a-view-versus-a-copy\n",
      "  df_targets.drop_duplicates(subset = [\"event_type\", \"product_id\", \"price\", \"user_id\", \"user_session\"], inplace = True)\n"
     ]
    },
    {
     "name": "stdout",
     "output_type": "stream",
     "text": [
      "<class 'pandas.core.frame.DataFrame'>\n",
      "Index: 2031788 entries, 40 to 67501863\n",
      "Data columns (total 9 columns):\n",
      " #   Column         Dtype  \n",
      "---  ------         -----  \n",
      " 0   event_time     object \n",
      " 1   event_type     object \n",
      " 2   product_id     int64  \n",
      " 3   category_id    int64  \n",
      " 4   category_code  object \n",
      " 5   brand          object \n",
      " 6   price          float64\n",
      " 7   user_id        int64  \n",
      " 8   user_session   object \n",
      "dtypes: float64(1), int64(3), object(5)\n",
      "memory usage: 155.0+ MB\n"
     ]
    },
    {
     "name": "stderr",
     "output_type": "stream",
     "text": [
      "<ipython-input-15-2cf3f77f1932>:5: SettingWithCopyWarning: \n",
      "A value is trying to be set on a copy of a slice from a DataFrame\n",
      "\n",
      "See the caveats in the documentation: https://pandas.pydata.org/pandas-docs/stable/user_guide/indexing.html#returning-a-view-versus-a-copy\n",
      "  df_targets.dropna(inplace = True)\n"
     ]
    }
   ],
   "source": [
    "# your code\n",
    "# first just eliminate the records where event_type = \"view\" and drop NA values and duplicates\n",
    "df_targets = df.loc[df['event_type'] != 'view']\n",
    "df_targets.drop_duplicates(subset = [\"event_type\", \"product_id\", \"price\", \"user_id\", \"user_session\"], inplace = True)\n",
    "df_targets.dropna(inplace = True)\n",
    "df_targets.info()"
   ]
  },
  {
   "cell_type": "code",
   "execution_count": 16,
   "metadata": {},
   "outputs": [],
   "source": [
    "cart_purchase_users = df.loc[\n",
    "    df[\"event_type\"].isin([\"cart\", \"purchase\"])\n",
    "].drop_duplicates(subset=[\"user_id\"])\n",
    "cart_purchase_users.dropna(how=\"any\", inplace=True)\n",
    "cart_purchase_users_all_activity = df.loc[\n",
    "    df[\"user_id\"].isin(cart_purchase_users[\"user_id\"])\n",
    "]"
   ]
  },
  {
   "cell_type": "code",
   "execution_count": 17,
   "metadata": {},
   "outputs": [],
   "source": [
    "# now you get the number of activities by user session\n",
    "\n",
    "activity_in_session = (\n",
    "    cart_purchase_users_all_activity.groupby([\"user_session\"])[\"event_type\"]\n",
    "    .count()\n",
    "    .reset_index()\n",
    ")\n",
    "activity_in_session = activity_in_session.rename(\n",
    "    columns={\"event_type\": \"activity_count\"}\n",
    ")\n",
    "df_targets = cart_purchase_users_all_activity.copy()"
   ]
  },
  {
   "cell_type": "code",
   "execution_count": 18,
   "metadata": {},
   "outputs": [
    {
     "data": {
      "text/html": [
       "<div>\n",
       "<style scoped>\n",
       "    .dataframe tbody tr th:only-of-type {\n",
       "        vertical-align: middle;\n",
       "    }\n",
       "\n",
       "    .dataframe tbody tr th {\n",
       "        vertical-align: top;\n",
       "    }\n",
       "\n",
       "    .dataframe thead th {\n",
       "        text-align: right;\n",
       "    }\n",
       "</style>\n",
       "<table border=\"1\" class=\"dataframe\">\n",
       "  <thead>\n",
       "    <tr style=\"text-align: right;\">\n",
       "      <th></th>\n",
       "      <th>event_time</th>\n",
       "      <th>event_type</th>\n",
       "      <th>product_id</th>\n",
       "      <th>category_id</th>\n",
       "      <th>category_code</th>\n",
       "      <th>brand</th>\n",
       "      <th>price</th>\n",
       "      <th>user_id</th>\n",
       "      <th>user_session</th>\n",
       "      <th>category_level1</th>\n",
       "      <th>category_level2</th>\n",
       "    </tr>\n",
       "  </thead>\n",
       "  <tbody>\n",
       "    <tr>\n",
       "      <th>2</th>\n",
       "      <td>2019-11-01 00:00:01 UTC</td>\n",
       "      <td>view</td>\n",
       "      <td>17302664</td>\n",
       "      <td>2053013553853497655</td>\n",
       "      <td>NaN</td>\n",
       "      <td>creed</td>\n",
       "      <td>28.31</td>\n",
       "      <td>561587266</td>\n",
       "      <td>755422e7-9040-477b-9bd2-6a6e8fd97387</td>\n",
       "      <td>NaN</td>\n",
       "      <td>NaN</td>\n",
       "    </tr>\n",
       "    <tr>\n",
       "      <th>3</th>\n",
       "      <td>2019-11-01 00:00:01 UTC</td>\n",
       "      <td>view</td>\n",
       "      <td>3601530</td>\n",
       "      <td>2053013563810775923</td>\n",
       "      <td>appliances.kitchen.washer</td>\n",
       "      <td>lg</td>\n",
       "      <td>712.87</td>\n",
       "      <td>518085591</td>\n",
       "      <td>3bfb58cd-7892-48cc-8020-2f17e6de6e7f</td>\n",
       "      <td>appliances</td>\n",
       "      <td>kitchen</td>\n",
       "    </tr>\n",
       "    <tr>\n",
       "      <th>9</th>\n",
       "      <td>2019-11-01 00:00:02 UTC</td>\n",
       "      <td>view</td>\n",
       "      <td>1004258</td>\n",
       "      <td>2053013555631882655</td>\n",
       "      <td>electronics.smartphone</td>\n",
       "      <td>apple</td>\n",
       "      <td>732.07</td>\n",
       "      <td>532647354</td>\n",
       "      <td>d2d3d2c6-631d-489e-9fb5-06f340b85be0</td>\n",
       "      <td>electronics</td>\n",
       "      <td>smartphone</td>\n",
       "    </tr>\n",
       "    <tr>\n",
       "      <th>14</th>\n",
       "      <td>2019-11-01 00:00:05 UTC</td>\n",
       "      <td>view</td>\n",
       "      <td>4600658</td>\n",
       "      <td>2053013563944993659</td>\n",
       "      <td>appliances.kitchen.dishwasher</td>\n",
       "      <td>samsung</td>\n",
       "      <td>411.83</td>\n",
       "      <td>526595547</td>\n",
       "      <td>aab33a9a-29c3-4d50-84c1-8a2bc9256104</td>\n",
       "      <td>appliances</td>\n",
       "      <td>kitchen</td>\n",
       "    </tr>\n",
       "    <tr>\n",
       "      <th>26</th>\n",
       "      <td>2019-11-01 00:00:09 UTC</td>\n",
       "      <td>view</td>\n",
       "      <td>17501048</td>\n",
       "      <td>2053013558752445019</td>\n",
       "      <td>NaN</td>\n",
       "      <td>eveline</td>\n",
       "      <td>7.59</td>\n",
       "      <td>515849878</td>\n",
       "      <td>31e80b9c-e5b3-437b-9112-c2a110e5c38a</td>\n",
       "      <td>NaN</td>\n",
       "      <td>NaN</td>\n",
       "    </tr>\n",
       "  </tbody>\n",
       "</table>\n",
       "</div>"
      ],
      "text/plain": [
       "                 event_time event_type  product_id          category_id  \\\n",
       "2   2019-11-01 00:00:01 UTC       view    17302664  2053013553853497655   \n",
       "3   2019-11-01 00:00:01 UTC       view     3601530  2053013563810775923   \n",
       "9   2019-11-01 00:00:02 UTC       view     1004258  2053013555631882655   \n",
       "14  2019-11-01 00:00:05 UTC       view     4600658  2053013563944993659   \n",
       "26  2019-11-01 00:00:09 UTC       view    17501048  2053013558752445019   \n",
       "\n",
       "                    category_code    brand   price    user_id  \\\n",
       "2                             NaN    creed   28.31  561587266   \n",
       "3       appliances.kitchen.washer       lg  712.87  518085591   \n",
       "9          electronics.smartphone    apple  732.07  532647354   \n",
       "14  appliances.kitchen.dishwasher  samsung  411.83  526595547   \n",
       "26                            NaN  eveline    7.59  515849878   \n",
       "\n",
       "                            user_session category_level1 category_level2  \n",
       "2   755422e7-9040-477b-9bd2-6a6e8fd97387             NaN             NaN  \n",
       "3   3bfb58cd-7892-48cc-8020-2f17e6de6e7f      appliances         kitchen  \n",
       "9   d2d3d2c6-631d-489e-9fb5-06f340b85be0     electronics      smartphone  \n",
       "14  aab33a9a-29c3-4d50-84c1-8a2bc9256104      appliances         kitchen  \n",
       "26  31e80b9c-e5b3-437b-9112-c2a110e5c38a             NaN             NaN  "
      ]
     },
     "execution_count": 18,
     "metadata": {},
     "output_type": "execute_result"
    }
   ],
   "source": [
    "# create the two new columns for the category levels 1 and 2\n",
    "# your code here\n",
    "df_targets['category_level1'] = df_targets['category_code'].str.split(\".\",expand = True)[0].astype(\"category\")\n",
    "df_targets['category_level2'] = df_targets['category_code'].str.split(\".\",expand = True)[1].astype(\"category\")\n",
    "df_targets.head()"
   ]
  },
  {
   "cell_type": "code",
   "execution_count": 19,
   "metadata": {},
   "outputs": [],
   "source": [
    "# Change the event_time to a timestamp\n",
    "# your code\n",
    "df_targets[\"timestamp\"] = pd.to_datetime(df_targets[\"event_time\"])"
   ]
  },
  {
   "cell_type": "code",
   "execution_count": 20,
   "metadata": {},
   "outputs": [],
   "source": [
    "# Use pandas.dt.dayofweek to get the day of the week\n",
    "# your code\n",
    "df_targets[\"day_of_week\"] = df_targets[\"timestamp\"].dt.dayofweek"
   ]
  },
  {
   "cell_type": "code",
   "execution_count": 21,
   "metadata": {},
   "outputs": [],
   "source": [
    "# add the is_purchased feature\n",
    "# your code\n",
    "df_targets[\"is_purchased\"] = np.where(df_targets[\"event_type\"] == \"purchase\", 1, 0)\n",
    "df_targets[\"is_purchased\"] = df_targets.groupby([\"user_session\", \"product_id\"])[\n",
    "    \"is_purchased\"\n",
    "].transform(\"max\")"
   ]
  },
  {
   "cell_type": "code",
   "execution_count": 22,
   "metadata": {},
   "outputs": [
    {
     "data": {
      "text/html": [
       "<div>\n",
       "<style scoped>\n",
       "    .dataframe tbody tr th:only-of-type {\n",
       "        vertical-align: middle;\n",
       "    }\n",
       "\n",
       "    .dataframe tbody tr th {\n",
       "        vertical-align: top;\n",
       "    }\n",
       "\n",
       "    .dataframe thead th {\n",
       "        text-align: right;\n",
       "    }\n",
       "</style>\n",
       "<table border=\"1\" class=\"dataframe\">\n",
       "  <thead>\n",
       "    <tr style=\"text-align: right;\">\n",
       "      <th></th>\n",
       "      <th>event_time</th>\n",
       "      <th>event_type</th>\n",
       "      <th>product_id</th>\n",
       "      <th>category_id</th>\n",
       "      <th>category_code</th>\n",
       "      <th>brand</th>\n",
       "      <th>price</th>\n",
       "      <th>user_id</th>\n",
       "      <th>user_session</th>\n",
       "      <th>category_level1</th>\n",
       "      <th>category_level2</th>\n",
       "      <th>timestamp</th>\n",
       "      <th>day_of_week</th>\n",
       "      <th>is_purchased</th>\n",
       "      <th>activity_count</th>\n",
       "    </tr>\n",
       "  </thead>\n",
       "  <tbody>\n",
       "    <tr>\n",
       "      <th>0</th>\n",
       "      <td>2019-11-01 00:00:01 UTC</td>\n",
       "      <td>view</td>\n",
       "      <td>17302664</td>\n",
       "      <td>2053013553853497655</td>\n",
       "      <td>NaN</td>\n",
       "      <td>creed</td>\n",
       "      <td>28.31</td>\n",
       "      <td>561587266</td>\n",
       "      <td>755422e7-9040-477b-9bd2-6a6e8fd97387</td>\n",
       "      <td>NaN</td>\n",
       "      <td>NaN</td>\n",
       "      <td>2019-11-01 00:00:01+00:00</td>\n",
       "      <td>4</td>\n",
       "      <td>0.0</td>\n",
       "      <td>11.0</td>\n",
       "    </tr>\n",
       "    <tr>\n",
       "      <th>1</th>\n",
       "      <td>2019-11-01 00:00:01 UTC</td>\n",
       "      <td>view</td>\n",
       "      <td>3601530</td>\n",
       "      <td>2053013563810775923</td>\n",
       "      <td>appliances.kitchen.washer</td>\n",
       "      <td>lg</td>\n",
       "      <td>712.87</td>\n",
       "      <td>518085591</td>\n",
       "      <td>3bfb58cd-7892-48cc-8020-2f17e6de6e7f</td>\n",
       "      <td>appliances</td>\n",
       "      <td>kitchen</td>\n",
       "      <td>2019-11-01 00:00:01+00:00</td>\n",
       "      <td>4</td>\n",
       "      <td>0.0</td>\n",
       "      <td>1.0</td>\n",
       "    </tr>\n",
       "    <tr>\n",
       "      <th>2</th>\n",
       "      <td>2019-11-01 00:00:02 UTC</td>\n",
       "      <td>view</td>\n",
       "      <td>1004258</td>\n",
       "      <td>2053013555631882655</td>\n",
       "      <td>electronics.smartphone</td>\n",
       "      <td>apple</td>\n",
       "      <td>732.07</td>\n",
       "      <td>532647354</td>\n",
       "      <td>d2d3d2c6-631d-489e-9fb5-06f340b85be0</td>\n",
       "      <td>electronics</td>\n",
       "      <td>smartphone</td>\n",
       "      <td>2019-11-01 00:00:02+00:00</td>\n",
       "      <td>4</td>\n",
       "      <td>0.0</td>\n",
       "      <td>9.0</td>\n",
       "    </tr>\n",
       "    <tr>\n",
       "      <th>3</th>\n",
       "      <td>2019-11-01 00:00:05 UTC</td>\n",
       "      <td>view</td>\n",
       "      <td>4600658</td>\n",
       "      <td>2053013563944993659</td>\n",
       "      <td>appliances.kitchen.dishwasher</td>\n",
       "      <td>samsung</td>\n",
       "      <td>411.83</td>\n",
       "      <td>526595547</td>\n",
       "      <td>aab33a9a-29c3-4d50-84c1-8a2bc9256104</td>\n",
       "      <td>appliances</td>\n",
       "      <td>kitchen</td>\n",
       "      <td>2019-11-01 00:00:05+00:00</td>\n",
       "      <td>4</td>\n",
       "      <td>0.0</td>\n",
       "      <td>9.0</td>\n",
       "    </tr>\n",
       "    <tr>\n",
       "      <th>4</th>\n",
       "      <td>2019-11-01 00:00:09 UTC</td>\n",
       "      <td>view</td>\n",
       "      <td>17501048</td>\n",
       "      <td>2053013558752445019</td>\n",
       "      <td>NaN</td>\n",
       "      <td>eveline</td>\n",
       "      <td>7.59</td>\n",
       "      <td>515849878</td>\n",
       "      <td>31e80b9c-e5b3-437b-9112-c2a110e5c38a</td>\n",
       "      <td>NaN</td>\n",
       "      <td>NaN</td>\n",
       "      <td>2019-11-01 00:00:09+00:00</td>\n",
       "      <td>4</td>\n",
       "      <td>0.0</td>\n",
       "      <td>7.0</td>\n",
       "    </tr>\n",
       "  </tbody>\n",
       "</table>\n",
       "</div>"
      ],
      "text/plain": [
       "                event_time event_type  product_id          category_id  \\\n",
       "0  2019-11-01 00:00:01 UTC       view    17302664  2053013553853497655   \n",
       "1  2019-11-01 00:00:01 UTC       view     3601530  2053013563810775923   \n",
       "2  2019-11-01 00:00:02 UTC       view     1004258  2053013555631882655   \n",
       "3  2019-11-01 00:00:05 UTC       view     4600658  2053013563944993659   \n",
       "4  2019-11-01 00:00:09 UTC       view    17501048  2053013558752445019   \n",
       "\n",
       "                   category_code    brand   price    user_id  \\\n",
       "0                            NaN    creed   28.31  561587266   \n",
       "1      appliances.kitchen.washer       lg  712.87  518085591   \n",
       "2         electronics.smartphone    apple  732.07  532647354   \n",
       "3  appliances.kitchen.dishwasher  samsung  411.83  526595547   \n",
       "4                            NaN  eveline    7.59  515849878   \n",
       "\n",
       "                           user_session category_level1 category_level2  \\\n",
       "0  755422e7-9040-477b-9bd2-6a6e8fd97387             NaN             NaN   \n",
       "1  3bfb58cd-7892-48cc-8020-2f17e6de6e7f      appliances         kitchen   \n",
       "2  d2d3d2c6-631d-489e-9fb5-06f340b85be0     electronics      smartphone   \n",
       "3  aab33a9a-29c3-4d50-84c1-8a2bc9256104      appliances         kitchen   \n",
       "4  31e80b9c-e5b3-437b-9112-c2a110e5c38a             NaN             NaN   \n",
       "\n",
       "                  timestamp  day_of_week  is_purchased  activity_count  \n",
       "0 2019-11-01 00:00:01+00:00            4           0.0            11.0  \n",
       "1 2019-11-01 00:00:01+00:00            4           0.0             1.0  \n",
       "2 2019-11-01 00:00:02+00:00            4           0.0             9.0  \n",
       "3 2019-11-01 00:00:05+00:00            4           0.0             9.0  \n",
       "4 2019-11-01 00:00:09+00:00            4           0.0             7.0  "
      ]
     },
     "execution_count": 22,
     "metadata": {},
     "output_type": "execute_result"
    }
   ],
   "source": [
    "df_targets = df_targets.merge(activity_in_session, on=\"user_session\", how=\"left\")\n",
    "df_targets[\"activity_count\"] = df_targets[\"activity_count\"].fillna(0)\n",
    "df_targets[\"brand\"] = df_targets[\"brand\"].astype(\"object\")\n",
    "df_targets.head()"
   ]
  },
  {
   "cell_type": "markdown",
   "metadata": {},
   "source": [
    "### Save new data structure if desired"
   ]
  },
  {
   "cell_type": "code",
   "execution_count": 23,
   "metadata": {},
   "outputs": [],
   "source": [
    "# df_targets.to_csv('training_data.csv')\n",
    "df_targets.dropna(inplace=True)"
   ]
  },
  {
   "cell_type": "code",
   "execution_count": 24,
   "metadata": {},
   "outputs": [
    {
     "name": "stdout",
     "output_type": "stream",
     "text": [
      "<class 'pandas.core.frame.DataFrame'>\n",
      "Index: 20983602 entries, 1 to 26749089\n",
      "Data columns (total 15 columns):\n",
      " #   Column           Dtype              \n",
      "---  ------           -----              \n",
      " 0   event_time       object             \n",
      " 1   event_type       object             \n",
      " 2   product_id       int64              \n",
      " 3   category_id      int64              \n",
      " 4   category_code    object             \n",
      " 5   brand            object             \n",
      " 6   price            float64            \n",
      " 7   user_id          int64              \n",
      " 8   user_session     object             \n",
      " 9   category_level1  category           \n",
      " 10  category_level2  category           \n",
      " 11  timestamp        datetime64[ns, UTC]\n",
      " 12  day_of_week      int32              \n",
      " 13  is_purchased     float64            \n",
      " 14  activity_count   float64            \n",
      "dtypes: category(2), datetime64[ns, UTC](1), float64(3), int32(1), int64(3), object(5)\n",
      "memory usage: 2.1+ GB\n"
     ]
    }
   ],
   "source": [
    "df_targets.info()"
   ]
  },
  {
   "cell_type": "code",
   "execution_count": 25,
   "metadata": {},
   "outputs": [],
   "source": [
    "from sklearn.preprocessing import LabelEncoder, MinMaxScaler\n",
    "from sklearn.model_selection import train_test_split\n",
    "from xgboost import plot_importance\n",
    "from sklearn.utils import resample\n",
    "from sklearn import metrics"
   ]
  },
  {
   "cell_type": "markdown",
   "metadata": {},
   "source": [
    "## Resampling training set"
   ]
  },
  {
   "cell_type": "code",
   "execution_count": 26,
   "metadata": {},
   "outputs": [
    {
     "data": {
      "text/plain": [
       "2701965"
      ]
     },
     "execution_count": 26,
     "metadata": {},
     "output_type": "execute_result"
    }
   ],
   "source": [
    "is_purcahase_set = df_targets[df_targets[\"is_purchased\"] == 1]\n",
    "is_purcahase_set.shape[0]"
   ]
  },
  {
   "cell_type": "code",
   "execution_count": 27,
   "metadata": {},
   "outputs": [
    {
     "data": {
      "text/plain": [
       "18281637"
      ]
     },
     "execution_count": 27,
     "metadata": {},
     "output_type": "execute_result"
    }
   ],
   "source": [
    "not_purcahase_set = df_targets[df_targets[\"is_purchased\"] == 0]\n",
    "not_purcahase_set.shape[0]"
   ]
  },
  {
   "cell_type": "code",
   "execution_count": 28,
   "metadata": {},
   "outputs": [],
   "source": [
    "n_samples = 500000\n",
    "is_purchase_downsampled = resample(\n",
    "    is_purcahase_set, replace=False, n_samples=n_samples, random_state=27\n",
    ")\n",
    "not_purcahase_set_downsampled = resample(\n",
    "    not_purcahase_set, replace=False, n_samples=n_samples, random_state=27\n",
    ")"
   ]
  },
  {
   "cell_type": "code",
   "execution_count": 37,
   "metadata": {},
   "outputs": [
    {
     "name": "stdout",
     "output_type": "stream",
     "text": [
      "<class 'pandas.core.frame.DataFrame'>\n",
      "Index: 1000000 entries, 22500018 to 13442419\n",
      "Data columns (total 15 columns):\n",
      " #   Column           Non-Null Count    Dtype              \n",
      "---  ------           --------------    -----              \n",
      " 0   event_time       1000000 non-null  object             \n",
      " 1   event_type       1000000 non-null  object             \n",
      " 2   product_id       1000000 non-null  int64              \n",
      " 3   category_id      1000000 non-null  int64              \n",
      " 4   category_code    1000000 non-null  object             \n",
      " 5   brand            1000000 non-null  category           \n",
      " 6   price            1000000 non-null  float64            \n",
      " 7   user_id          1000000 non-null  int64              \n",
      " 8   user_session     1000000 non-null  object             \n",
      " 9   category_level1  1000000 non-null  category           \n",
      " 10  category_level2  1000000 non-null  category           \n",
      " 11  timestamp        1000000 non-null  datetime64[ns, UTC]\n",
      " 12  day_of_week      1000000 non-null  int32              \n",
      " 13  is_purchased     1000000 non-null  float64            \n",
      " 14  activity_count   1000000 non-null  float64            \n",
      "dtypes: category(3), datetime64[ns, UTC](1), float64(3), int32(1), int64(3), object(4)\n",
      "memory usage: 99.3+ MB\n"
     ]
    }
   ],
   "source": [
    "downsampled = pd.concat([is_purchase_downsampled, not_purcahase_set_downsampled])\n",
    "downsampled[\"is_purchased\"].value_counts()\n",
    "downsampled['brand'] = downsampled['brand'].astype(\"category\")\n",
    "downsampled.info()"
   ]
  },
  {
   "cell_type": "code",
   "execution_count": 38,
   "metadata": {},
   "outputs": [
    {
     "name": "stdout",
     "output_type": "stream",
     "text": [
      "<class 'pandas.core.frame.DataFrame'>\n",
      "Index: 1000000 entries, 22500018 to 13442419\n",
      "Data columns (total 6 columns):\n",
      " #   Column           Non-Null Count    Dtype   \n",
      "---  ------           --------------    -----   \n",
      " 0   brand            1000000 non-null  category\n",
      " 1   price            1000000 non-null  float64 \n",
      " 2   day_of_week      1000000 non-null  int32   \n",
      " 3   category_level1  1000000 non-null  category\n",
      " 4   category_level2  1000000 non-null  category\n",
      " 5   activity_count   1000000 non-null  float64 \n",
      "dtypes: category(3), float64(2), int32(1)\n",
      "memory usage: 30.6 MB\n"
     ]
    }
   ],
   "source": [
    "# select the brand, price, weekday, category_level1, cateogry_level2, and activity_count features\n",
    "\n",
    "features = downsampled[[\"brand\",\n",
    "        \"price\",\n",
    "        \"day_of_week\",\n",
    "        \"category_level1\",\n",
    "        \"category_level2\",\n",
    "        \"activity_count\",]]\n",
    "features\n",
    "features.info()"
   ]
  },
  {
   "cell_type": "code",
   "execution_count": 39,
   "metadata": {},
   "outputs": [
    {
     "data": {
      "text/plain": [
       "brand\n",
       "samsung       7889245\n",
       "apple         6259379\n",
       "xiaomi        4638062\n",
       "huawei        1410126\n",
       "lucente       1185075\n",
       "               ...   \n",
       "alfa                1\n",
       "motorcraft          1\n",
       "pervenec            1\n",
       "interlink           1\n",
       "osprey              1\n",
       "Name: count, Length: 4200, dtype: int64"
      ]
     },
     "execution_count": 39,
     "metadata": {},
     "output_type": "execute_result"
    }
   ],
   "source": [
    "df.brand.value_counts()"
   ]
  },
  {
   "cell_type": "markdown",
   "metadata": {},
   "source": [
    "## Encode categorical variables"
   ]
  },
  {
   "cell_type": "code",
   "execution_count": 40,
   "metadata": {},
   "outputs": [
    {
     "data": {
      "text/html": [
       "<div>\n",
       "<style scoped>\n",
       "    .dataframe tbody tr th:only-of-type {\n",
       "        vertical-align: middle;\n",
       "    }\n",
       "\n",
       "    .dataframe tbody tr th {\n",
       "        vertical-align: top;\n",
       "    }\n",
       "\n",
       "    .dataframe thead th {\n",
       "        text-align: right;\n",
       "    }\n",
       "</style>\n",
       "<table border=\"1\" class=\"dataframe\">\n",
       "  <thead>\n",
       "    <tr style=\"text-align: right;\">\n",
       "      <th></th>\n",
       "      <th>brand</th>\n",
       "      <th>price</th>\n",
       "      <th>day_of_week</th>\n",
       "      <th>category_level1</th>\n",
       "      <th>category_level2</th>\n",
       "      <th>activity_count</th>\n",
       "    </tr>\n",
       "  </thead>\n",
       "  <tbody>\n",
       "    <tr>\n",
       "      <th>22500018</th>\n",
       "      <td>83</td>\n",
       "      <td>1003.37</td>\n",
       "      <td>5</td>\n",
       "      <td>7</td>\n",
       "      <td>40</td>\n",
       "      <td>7.0</td>\n",
       "    </tr>\n",
       "    <tr>\n",
       "      <th>2685089</th>\n",
       "      <td>650</td>\n",
       "      <td>231.19</td>\n",
       "      <td>2</td>\n",
       "      <td>7</td>\n",
       "      <td>40</td>\n",
       "      <td>8.0</td>\n",
       "    </tr>\n",
       "    <tr>\n",
       "      <th>26205183</th>\n",
       "      <td>818</td>\n",
       "      <td>231.64</td>\n",
       "      <td>5</td>\n",
       "      <td>4</td>\n",
       "      <td>29</td>\n",
       "      <td>4.0</td>\n",
       "    </tr>\n",
       "    <tr>\n",
       "      <th>14226883</th>\n",
       "      <td>1388</td>\n",
       "      <td>226.49</td>\n",
       "      <td>5</td>\n",
       "      <td>2</td>\n",
       "      <td>18</td>\n",
       "      <td>6.0</td>\n",
       "    </tr>\n",
       "    <tr>\n",
       "      <th>1697705</th>\n",
       "      <td>1223</td>\n",
       "      <td>321.73</td>\n",
       "      <td>0</td>\n",
       "      <td>2</td>\n",
       "      <td>26</td>\n",
       "      <td>15.0</td>\n",
       "    </tr>\n",
       "  </tbody>\n",
       "</table>\n",
       "</div>"
      ],
      "text/plain": [
       "          brand    price  day_of_week  category_level1  category_level2  \\\n",
       "22500018     83  1003.37            5                7               40   \n",
       "2685089     650   231.19            2                7               40   \n",
       "26205183    818   231.64            5                4               29   \n",
       "14226883   1388   226.49            5                2               18   \n",
       "1697705    1223   321.73            0                2               26   \n",
       "\n",
       "          activity_count  \n",
       "22500018             7.0  \n",
       "2685089              8.0  \n",
       "26205183             4.0  \n",
       "14226883             6.0  \n",
       "1697705             15.0  "
      ]
     },
     "execution_count": 40,
     "metadata": {},
     "output_type": "execute_result"
    }
   ],
   "source": [
    "features.loc[:, \"brand\"] = LabelEncoder().fit_transform(\n",
    "    downsampled.loc[:, \"brand\"].copy()\n",
    ")\n",
    "features.loc[:, \"day_of_week\"] = LabelEncoder().fit_transform(\n",
    "    downsampled.loc[:, \"day_of_week\"].copy()\n",
    ")\n",
    "features.loc[:, \"category_level1\"] = LabelEncoder().fit_transform(\n",
    "    downsampled.loc[:, \"category_level1\"].copy()\n",
    ")\n",
    "features.loc[:, \"category_level2\"] = LabelEncoder().fit_transform(\n",
    "    downsampled.loc[:, \"category_level2\"].copy()\n",
    ")\n",
    "\n",
    "is_purchased = LabelEncoder().fit_transform(downsampled[\"is_purchased\"])\n",
    "features.head()"
   ]
  },
  {
   "cell_type": "code",
   "execution_count": 41,
   "metadata": {},
   "outputs": [
    {
     "name": "stdout",
     "output_type": "stream",
     "text": [
      "['brand', 'price', 'day_of_week', 'category_level1', 'category_level2', 'activity_count']\n"
     ]
    }
   ],
   "source": [
    "print(list(features.columns))"
   ]
  },
  {
   "cell_type": "markdown",
   "metadata": {},
   "source": [
    "## Split the data\n",
    "Use a test size of 0.3 and a random state of 86 to split the data into test and train subsets"
   ]
  },
  {
   "cell_type": "code",
   "execution_count": 42,
   "metadata": {},
   "outputs": [],
   "source": [
    "X_train, X_test, y_train, y_test = train_test_split(features, is_purchased, test_size = 0.3, random_state = 86)"
   ]
  },
  {
   "cell_type": "markdown",
   "metadata": {},
   "source": [
    "## Train the model\n",
    "Choose learning rate of 0.1 on XGBClassifier, fit the model, and make predictions on the test set"
   ]
  },
  {
   "cell_type": "code",
   "execution_count": 56,
   "metadata": {},
   "outputs": [],
   "source": [
    "from xgboost import XGBClassifier\n",
    "\n",
    "model = XGBClassifier(learning_rate = .1)\n",
    "# fit the model on the train sets\n",
    "model.fit(X_train, y_train)\n",
    "y_pred = model.predict(X_test)"
   ]
  },
  {
   "cell_type": "code",
   "execution_count": 57,
   "metadata": {},
   "outputs": [
    {
     "name": "stdout",
     "output_type": "stream",
     "text": [
      "Accuracy: 0.6963066666666666\n",
      "Precision: 0.6805461963513397\n",
      "Recall: 0.7403500119958415\n",
      "fbeta: 0.6966536538237529\n"
     ]
    }
   ],
   "source": [
    "print(\"Accuracy:\", metrics.accuracy_score(y_test, y_pred))\n",
    "print(\"Precision:\", metrics.precision_score(y_test, y_pred))\n",
    "print(\"Recall:\", metrics.recall_score(y_test, y_pred))\n",
    "print(\"fbeta:\", metrics.fbeta_score(y_test, y_pred, average=\"weighted\", beta=0.5))"
   ]
  },
  {
   "cell_type": "markdown",
   "metadata": {},
   "source": [
    "## Feature importance\n",
    "Plot the feature importance using plot_importance"
   ]
  },
  {
   "cell_type": "code",
   "execution_count": 58,
   "metadata": {},
   "outputs": [
    {
     "data": {
      "image/png": "[encoded data removed]",
      "text/plain": [
       "<Figure size 1224x360 with 1 Axes>"
      ]
     },
     "metadata": {
      "needs_background": "light"
     },
     "output_type": "display_data"
    }
   ],
   "source": [
    "plot_importance(model, max_num_features=10, importance_type=\"gain\")\n",
    "# plt.rcParams['figure.figsize'] = (40,10)\n",
    "plt.show()"
   ]
  },
  {
   "cell_type": "code",
   "execution_count": null,
   "metadata": {},
   "outputs": [],
   "source": []
  }
 ],
 "metadata": {
  "kernelspec": {
   "display_name": "Python 3",
   "language": "python",
   "name": "python3"
  },
  "language_info": {
   "codemirror_mode": {
    "name": "ipython",
    "version": 3
   },
   "file_extension": ".py",
   "mimetype": "text/x-python",
   "name": "python",
   "nbconvert_exporter": "python",
   "pygments_lexer": "ipython3",
   "version": "3.8.5"
  }
 },
 "nbformat": 4,
 "nbformat_minor": 4
}
